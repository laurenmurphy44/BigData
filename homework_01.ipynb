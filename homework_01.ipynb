{
 "cells": [
  {
   "cell_type": "markdown",
   "id": "loose-tooth",
   "metadata": {},
   "source": [
    "Before you turn this problem in, make sure everything runs as expected. First, **restart the kernel** (in the menubar, select Kernel$\\rightarrow$Restart) and then **run all cells** (in the menubar, select Cell$\\rightarrow$Run All).\n",
    "\n",
    "Make sure you fill in any place that says `YOUR CODE HERE` or \"YOUR ANSWER HERE\", as well as your name and collaborators below:"
   ]
  },
  {
   "cell_type": "code",
   "execution_count": 1,
   "id": "twelve-exercise",
   "metadata": {},
   "outputs": [],
   "source": [
    "NAME = \"Lauren Murphy\"\n",
    "COLLABORATORS = \"Kaitlyn Downey, Riley Poduje\""
   ]
  },
  {
   "cell_type": "markdown",
   "id": "handmade-toronto",
   "metadata": {},
   "source": [
    "---"
   ]
  },
  {
   "cell_type": "markdown",
   "id": "silent-lucas",
   "metadata": {
    "deletable": false,
    "editable": false,
    "nbgrader": {
     "cell_type": "markdown",
     "checksum": "1ec5ae92a84987a7475794153d5c9cc9",
     "grade": false,
     "grade_id": "header",
     "locked": true,
     "schema_version": 3,
     "solution": false,
     "task": false
    }
   },
   "source": [
    "## Homework 1 - Tidy Data and Fielding Independent Pitching\n",
    "\n",
    "* Note: Feel free to use either Excel or Python for this assignment.  Please submit Python via JupyterHub and Excel via Blackboard.\n",
    "\n",
    "Dataset: \n",
    "\n",
    "hw_df_pivot = pd.read_csv(\"https://raw.githubusercontent.com/TravisRPetersen/sports-analytics-spring18/master/homework_01/pitcher_data_untidy.csv\")"
   ]
  },
  {
   "cell_type": "markdown",
   "id": "starting-determination",
   "metadata": {
    "deletable": false,
    "editable": false,
    "nbgrader": {
     "cell_type": "markdown",
     "checksum": "0808cec88093fb61187a94a7d83f31bf",
     "grade": false,
     "grade_id": "q_1_desc",
     "locked": true,
     "schema_version": 3,
     "solution": false,
     "task": false
    }
   },
   "source": [
    "---\n",
    "## Part 1: Tidy & Clean Data\n",
    "\n",
    "* Use the pandas melt and pivot functions tidy the dataset\n",
    "* Check for data integrity issues\n",
    "* Use the loc method to replace any erroneous or missing data"
   ]
  },
  {
   "cell_type": "code",
   "execution_count": 2,
   "id": "diverse-rapid",
   "metadata": {
    "deletable": false,
    "nbgrader": {
     "cell_type": "code",
     "checksum": "8e7b4cebcb849b57370b3c32dbec6887",
     "grade": true,
     "grade_id": "q_1_answer",
     "locked": false,
     "points": 4,
     "schema_version": 3,
     "solution": true,
     "task": false
    }
   },
   "outputs": [],
   "source": [
    "import pandas as pd\n",
    "import numpy as np \n",
    "hw_df_pivot=pd.read_csv(\"https://raw.githubusercontent.com/TravisRPetersen/sports-analytics-spring18/master/homework_01/pitcher_data_untidy.csv\")"
   ]
  },
  {
   "cell_type": "code",
   "execution_count": 3,
   "id": "durable-priest",
   "metadata": {},
   "outputs": [
    {
     "data": {
      "text/html": [
       "<div>\n",
       "<style scoped>\n",
       "    .dataframe tbody tr th:only-of-type {\n",
       "        vertical-align: middle;\n",
       "    }\n",
       "\n",
       "    .dataframe tbody tr th {\n",
       "        vertical-align: top;\n",
       "    }\n",
       "\n",
       "    .dataframe thead th {\n",
       "        text-align: right;\n",
       "    }\n",
       "</style>\n",
       "<table border=\"1\" class=\"dataframe\">\n",
       "  <thead>\n",
       "    <tr style=\"text-align: right;\">\n",
       "      <th></th>\n",
       "      <th>nameFull</th>\n",
       "      <th>HR_2012</th>\n",
       "      <th>HR_2013</th>\n",
       "      <th>HR_2014</th>\n",
       "      <th>HR_2015</th>\n",
       "      <th>BB_2012</th>\n",
       "      <th>BB_2013</th>\n",
       "      <th>BB_2014</th>\n",
       "      <th>BB_2015</th>\n",
       "      <th>HBP_2012</th>\n",
       "      <th>...</th>\n",
       "      <th>HBP_2014</th>\n",
       "      <th>HBP_2015</th>\n",
       "      <th>SO_2012</th>\n",
       "      <th>SO_2013</th>\n",
       "      <th>SO_2014</th>\n",
       "      <th>SO_2015</th>\n",
       "      <th>IPouts_2012</th>\n",
       "      <th>IPouts_2013</th>\n",
       "      <th>IPouts_2014</th>\n",
       "      <th>IPouts_2015</th>\n",
       "    </tr>\n",
       "  </thead>\n",
       "  <tbody>\n",
       "    <tr>\n",
       "      <th>0</th>\n",
       "      <td>A. J. Burnett</td>\n",
       "      <td>18.0</td>\n",
       "      <td>11.0</td>\n",
       "      <td>20.0</td>\n",
       "      <td>11.0</td>\n",
       "      <td>62.0</td>\n",
       "      <td>67.0</td>\n",
       "      <td>96.0</td>\n",
       "      <td>49.0</td>\n",
       "      <td>9.0</td>\n",
       "      <td>...</td>\n",
       "      <td>16.0</td>\n",
       "      <td>11.0</td>\n",
       "      <td>180.0</td>\n",
       "      <td>209.0</td>\n",
       "      <td>190.0</td>\n",
       "      <td>143.0</td>\n",
       "      <td>607.0</td>\n",
       "      <td>573.0</td>\n",
       "      <td>641.0</td>\n",
       "      <td>492.0</td>\n",
       "    </tr>\n",
       "  </tbody>\n",
       "</table>\n",
       "<p>1 rows × 21 columns</p>\n",
       "</div>"
      ],
      "text/plain": [
       "        nameFull  HR_2012  HR_2013  HR_2014  HR_2015  BB_2012  BB_2013  \\\n",
       "0  A. J. Burnett     18.0     11.0     20.0     11.0     62.0     67.0   \n",
       "\n",
       "   BB_2014  BB_2015  HBP_2012  ...  HBP_2014  HBP_2015  SO_2012  SO_2013  \\\n",
       "0     96.0     49.0       9.0  ...      16.0      11.0    180.0    209.0   \n",
       "\n",
       "   SO_2014  SO_2015  IPouts_2012  IPouts_2013  IPouts_2014  IPouts_2015  \n",
       "0    190.0    143.0        607.0        573.0        641.0        492.0  \n",
       "\n",
       "[1 rows x 21 columns]"
      ]
     },
     "execution_count": 3,
     "metadata": {},
     "output_type": "execute_result"
    }
   ],
   "source": [
    "hw_df_pivot.head(1)"
   ]
  },
  {
   "cell_type": "code",
   "execution_count": 4,
   "id": "temporal-theory",
   "metadata": {},
   "outputs": [],
   "source": [
    "melt_hw_df=pd.melt(hw_df_pivot,id_vars='nameFull')"
   ]
  },
  {
   "cell_type": "code",
   "execution_count": 5,
   "id": "adjusted-dictionary",
   "metadata": {},
   "outputs": [
    {
     "data": {
      "text/html": [
       "<div>\n",
       "<style scoped>\n",
       "    .dataframe tbody tr th:only-of-type {\n",
       "        vertical-align: middle;\n",
       "    }\n",
       "\n",
       "    .dataframe tbody tr th {\n",
       "        vertical-align: top;\n",
       "    }\n",
       "\n",
       "    .dataframe thead th {\n",
       "        text-align: right;\n",
       "    }\n",
       "</style>\n",
       "<table border=\"1\" class=\"dataframe\">\n",
       "  <thead>\n",
       "    <tr style=\"text-align: right;\">\n",
       "      <th></th>\n",
       "      <th>nameFull</th>\n",
       "      <th>variable</th>\n",
       "      <th>value</th>\n",
       "    </tr>\n",
       "  </thead>\n",
       "  <tbody>\n",
       "    <tr>\n",
       "      <th>0</th>\n",
       "      <td>A. J. Burnett</td>\n",
       "      <td>HR_2012</td>\n",
       "      <td>18.0</td>\n",
       "    </tr>\n",
       "    <tr>\n",
       "      <th>1</th>\n",
       "      <td>Chris Sale</td>\n",
       "      <td>HR_2012</td>\n",
       "      <td>19.0</td>\n",
       "    </tr>\n",
       "    <tr>\n",
       "      <th>2</th>\n",
       "      <td>Clayton Kershaw</td>\n",
       "      <td>HR_2012</td>\n",
       "      <td>16.0</td>\n",
       "    </tr>\n",
       "    <tr>\n",
       "      <th>3</th>\n",
       "      <td>Cole Hamels</td>\n",
       "      <td>HR_2012</td>\n",
       "      <td>24.0</td>\n",
       "    </tr>\n",
       "    <tr>\n",
       "      <th>4</th>\n",
       "      <td>Dan Haren</td>\n",
       "      <td>HR_2012</td>\n",
       "      <td>28.0</td>\n",
       "    </tr>\n",
       "  </tbody>\n",
       "</table>\n",
       "</div>"
      ],
      "text/plain": [
       "          nameFull variable  value\n",
       "0    A. J. Burnett  HR_2012   18.0\n",
       "1       Chris Sale  HR_2012   19.0\n",
       "2  Clayton Kershaw  HR_2012   16.0\n",
       "3      Cole Hamels  HR_2012   24.0\n",
       "4        Dan Haren  HR_2012   28.0"
      ]
     },
     "execution_count": 5,
     "metadata": {},
     "output_type": "execute_result"
    }
   ],
   "source": [
    "melt_hw_df.head()"
   ]
  },
  {
   "cell_type": "code",
   "execution_count": 6,
   "id": "antique-fifteen",
   "metadata": {},
   "outputs": [
    {
     "data": {
      "text/plain": [
       "R. A. Dickey         20\n",
       "Edinson Volquez      20\n",
       "Jon Lester           20\n",
       "A. J. Burnett        20\n",
       "Cole Hamels          20\n",
       "Felix Hernandez      20\n",
       "Lance Lynn           20\n",
       "Madison Bumgarner    20\n",
       "Ian Kennedy          20\n",
       "Mike Leake           20\n",
       "Clayton Kershaw      20\n",
       "Rick Porcello        20\n",
       "Zack Greinke         20\n",
       "Jordan Zimmerman     20\n",
       "Max Sherzer          20\n",
       "Jeff Samardzija      20\n",
       "David Price          20\n",
       "Dan Haren            20\n",
       "James Shields        20\n",
       "Wade Miley           20\n",
       "Jordan Zimmermann    20\n",
       "Jeff Samarja         20\n",
       "Mark Buehrle         20\n",
       "Chris Sale           20\n",
       "Yovani Gallardo      20\n",
       "Name: nameFull, dtype: int64"
      ]
     },
     "execution_count": 6,
     "metadata": {},
     "output_type": "execute_result"
    }
   ],
   "source": [
    "melt_hw_df['nameFull'].value_counts()"
   ]
  },
  {
   "cell_type": "code",
   "execution_count": 7,
   "id": "vertical-shannon",
   "metadata": {},
   "outputs": [],
   "source": [
    "melt_hw_df.loc[melt_hw_df['nameFull']=='Jordan Zimmermann','nameFull']='Jordan Zimmerman'"
   ]
  },
  {
   "cell_type": "code",
   "execution_count": 8,
   "id": "pediatric-bandwidth",
   "metadata": {},
   "outputs": [
    {
     "data": {
      "text/html": [
       "<div>\n",
       "<style scoped>\n",
       "    .dataframe tbody tr th:only-of-type {\n",
       "        vertical-align: middle;\n",
       "    }\n",
       "\n",
       "    .dataframe tbody tr th {\n",
       "        vertical-align: top;\n",
       "    }\n",
       "\n",
       "    .dataframe thead th {\n",
       "        text-align: right;\n",
       "    }\n",
       "</style>\n",
       "<table border=\"1\" class=\"dataframe\">\n",
       "  <thead>\n",
       "    <tr style=\"text-align: right;\">\n",
       "      <th></th>\n",
       "      <th>nameFull</th>\n",
       "      <th>variable</th>\n",
       "      <th>value</th>\n",
       "      <th>column</th>\n",
       "      <th>yearID</th>\n",
       "    </tr>\n",
       "  </thead>\n",
       "  <tbody>\n",
       "    <tr>\n",
       "      <th>0</th>\n",
       "      <td>A. J. Burnett</td>\n",
       "      <td>HR_2012</td>\n",
       "      <td>18.0</td>\n",
       "      <td>HR</td>\n",
       "      <td>2012</td>\n",
       "    </tr>\n",
       "    <tr>\n",
       "      <th>1</th>\n",
       "      <td>Chris Sale</td>\n",
       "      <td>HR_2012</td>\n",
       "      <td>19.0</td>\n",
       "      <td>HR</td>\n",
       "      <td>2012</td>\n",
       "    </tr>\n",
       "    <tr>\n",
       "      <th>2</th>\n",
       "      <td>Clayton Kershaw</td>\n",
       "      <td>HR_2012</td>\n",
       "      <td>16.0</td>\n",
       "      <td>HR</td>\n",
       "      <td>2012</td>\n",
       "    </tr>\n",
       "    <tr>\n",
       "      <th>3</th>\n",
       "      <td>Cole Hamels</td>\n",
       "      <td>HR_2012</td>\n",
       "      <td>24.0</td>\n",
       "      <td>HR</td>\n",
       "      <td>2012</td>\n",
       "    </tr>\n",
       "    <tr>\n",
       "      <th>4</th>\n",
       "      <td>Dan Haren</td>\n",
       "      <td>HR_2012</td>\n",
       "      <td>28.0</td>\n",
       "      <td>HR</td>\n",
       "      <td>2012</td>\n",
       "    </tr>\n",
       "  </tbody>\n",
       "</table>\n",
       "</div>"
      ],
      "text/plain": [
       "          nameFull variable  value column yearID\n",
       "0    A. J. Burnett  HR_2012   18.0     HR   2012\n",
       "1       Chris Sale  HR_2012   19.0     HR   2012\n",
       "2  Clayton Kershaw  HR_2012   16.0     HR   2012\n",
       "3      Cole Hamels  HR_2012   24.0     HR   2012\n",
       "4        Dan Haren  HR_2012   28.0     HR   2012"
      ]
     },
     "execution_count": 8,
     "metadata": {},
     "output_type": "execute_result"
    }
   ],
   "source": [
    "melt_hw_df['column']=melt_hw_df['variable'].apply(lambda x: x.split('_')[0])\n",
    "melt_hw_df['yearID']=melt_hw_df['variable'].apply(lambda x: x.split('_')[1])\n",
    "melt_hw_df.head()"
   ]
  },
  {
   "cell_type": "code",
   "execution_count": 9,
   "id": "brown-conversation",
   "metadata": {},
   "outputs": [
    {
     "data": {
      "text/html": [
       "<div>\n",
       "<style scoped>\n",
       "    .dataframe tbody tr th:only-of-type {\n",
       "        vertical-align: middle;\n",
       "    }\n",
       "\n",
       "    .dataframe tbody tr th {\n",
       "        vertical-align: top;\n",
       "    }\n",
       "\n",
       "    .dataframe thead th {\n",
       "        text-align: right;\n",
       "    }\n",
       "</style>\n",
       "<table border=\"1\" class=\"dataframe\">\n",
       "  <thead>\n",
       "    <tr style=\"text-align: right;\">\n",
       "      <th>column</th>\n",
       "      <th>nameFull</th>\n",
       "      <th>yearID</th>\n",
       "      <th>BB</th>\n",
       "      <th>HBP</th>\n",
       "      <th>HR</th>\n",
       "      <th>IPouts</th>\n",
       "      <th>SO</th>\n",
       "    </tr>\n",
       "  </thead>\n",
       "  <tbody>\n",
       "    <tr>\n",
       "      <th>0</th>\n",
       "      <td>A. J. Burnett</td>\n",
       "      <td>2012</td>\n",
       "      <td>62.0</td>\n",
       "      <td>9.0</td>\n",
       "      <td>18.0</td>\n",
       "      <td>607.0</td>\n",
       "      <td>180.0</td>\n",
       "    </tr>\n",
       "    <tr>\n",
       "      <th>1</th>\n",
       "      <td>A. J. Burnett</td>\n",
       "      <td>2013</td>\n",
       "      <td>67.0</td>\n",
       "      <td>9.0</td>\n",
       "      <td>11.0</td>\n",
       "      <td>573.0</td>\n",
       "      <td>209.0</td>\n",
       "    </tr>\n",
       "    <tr>\n",
       "      <th>2</th>\n",
       "      <td>A. J. Burnett</td>\n",
       "      <td>2014</td>\n",
       "      <td>96.0</td>\n",
       "      <td>16.0</td>\n",
       "      <td>20.0</td>\n",
       "      <td>641.0</td>\n",
       "      <td>190.0</td>\n",
       "    </tr>\n",
       "    <tr>\n",
       "      <th>3</th>\n",
       "      <td>A. J. Burnett</td>\n",
       "      <td>2015</td>\n",
       "      <td>49.0</td>\n",
       "      <td>11.0</td>\n",
       "      <td>11.0</td>\n",
       "      <td>492.0</td>\n",
       "      <td>143.0</td>\n",
       "    </tr>\n",
       "    <tr>\n",
       "      <th>4</th>\n",
       "      <td>Chris Sale</td>\n",
       "      <td>2012</td>\n",
       "      <td>51.0</td>\n",
       "      <td>6.0</td>\n",
       "      <td>19.0</td>\n",
       "      <td>576.0</td>\n",
       "      <td>192.0</td>\n",
       "    </tr>\n",
       "  </tbody>\n",
       "</table>\n",
       "</div>"
      ],
      "text/plain": [
       "column       nameFull yearID    BB   HBP    HR  IPouts     SO\n",
       "0       A. J. Burnett   2012  62.0   9.0  18.0   607.0  180.0\n",
       "1       A. J. Burnett   2013  67.0   9.0  11.0   573.0  209.0\n",
       "2       A. J. Burnett   2014  96.0  16.0  20.0   641.0  190.0\n",
       "3       A. J. Burnett   2015  49.0  11.0  11.0   492.0  143.0\n",
       "4          Chris Sale   2012  51.0   6.0  19.0   576.0  192.0"
      ]
     },
     "execution_count": 9,
     "metadata": {},
     "output_type": "execute_result"
    }
   ],
   "source": [
    "pivot_hw_df=pd.pivot_table(melt_hw_df,index=['nameFull','yearID'],columns='column',values='value').reset_index()\n",
    "pivot_hw_df.head()"
   ]
  },
  {
   "cell_type": "code",
   "execution_count": 10,
   "id": "modern-smart",
   "metadata": {},
   "outputs": [
    {
     "data": {
      "text/html": [
       "<div>\n",
       "<style scoped>\n",
       "    .dataframe tbody tr th:only-of-type {\n",
       "        vertical-align: middle;\n",
       "    }\n",
       "\n",
       "    .dataframe tbody tr th {\n",
       "        vertical-align: top;\n",
       "    }\n",
       "\n",
       "    .dataframe thead th {\n",
       "        text-align: right;\n",
       "    }\n",
       "</style>\n",
       "<table border=\"1\" class=\"dataframe\">\n",
       "  <thead>\n",
       "    <tr style=\"text-align: right;\">\n",
       "      <th>column</th>\n",
       "      <th>BB</th>\n",
       "      <th>HBP</th>\n",
       "      <th>HR</th>\n",
       "      <th>IPouts</th>\n",
       "      <th>SO</th>\n",
       "    </tr>\n",
       "  </thead>\n",
       "  <tbody>\n",
       "    <tr>\n",
       "      <th>count</th>\n",
       "      <td>92.000</td>\n",
       "      <td>92.000</td>\n",
       "      <td>91.000</td>\n",
       "      <td>92.000</td>\n",
       "      <td>92.000</td>\n",
       "    </tr>\n",
       "    <tr>\n",
       "      <th>mean</th>\n",
       "      <td>54.120</td>\n",
       "      <td>6.837</td>\n",
       "      <td>19.385</td>\n",
       "      <td>608.402</td>\n",
       "      <td>186.293</td>\n",
       "    </tr>\n",
       "    <tr>\n",
       "      <th>std</th>\n",
       "      <td>15.008</td>\n",
       "      <td>3.515</td>\n",
       "      <td>7.339</td>\n",
       "      <td>54.968</td>\n",
       "      <td>53.094</td>\n",
       "    </tr>\n",
       "    <tr>\n",
       "      <th>min</th>\n",
       "      <td>27.000</td>\n",
       "      <td>0.000</td>\n",
       "      <td>-28.000</td>\n",
       "      <td>492.000</td>\n",
       "      <td>91.000</td>\n",
       "    </tr>\n",
       "    <tr>\n",
       "      <th>25%</th>\n",
       "      <td>42.750</td>\n",
       "      <td>4.000</td>\n",
       "      <td>16.000</td>\n",
       "      <td>575.250</td>\n",
       "      <td>147.750</td>\n",
       "    </tr>\n",
       "    <tr>\n",
       "      <th>50%</th>\n",
       "      <td>51.500</td>\n",
       "      <td>6.500</td>\n",
       "      <td>19.000</td>\n",
       "      <td>607.500</td>\n",
       "      <td>181.500</td>\n",
       "    </tr>\n",
       "    <tr>\n",
       "      <th>75%</th>\n",
       "      <td>64.500</td>\n",
       "      <td>9.000</td>\n",
       "      <td>23.500</td>\n",
       "      <td>643.000</td>\n",
       "      <td>214.250</td>\n",
       "    </tr>\n",
       "    <tr>\n",
       "      <th>max</th>\n",
       "      <td>105.000</td>\n",
       "      <td>16.000</td>\n",
       "      <td>35.000</td>\n",
       "      <td>745.000</td>\n",
       "      <td>500.000</td>\n",
       "    </tr>\n",
       "  </tbody>\n",
       "</table>\n",
       "</div>"
      ],
      "text/plain": [
       "column       BB     HBP      HR   IPouts       SO\n",
       "count    92.000  92.000  91.000   92.000   92.000\n",
       "mean     54.120   6.837  19.385  608.402  186.293\n",
       "std      15.008   3.515   7.339   54.968   53.094\n",
       "min      27.000   0.000 -28.000  492.000   91.000\n",
       "25%      42.750   4.000  16.000  575.250  147.750\n",
       "50%      51.500   6.500  19.000  607.500  181.500\n",
       "75%      64.500   9.000  23.500  643.000  214.250\n",
       "max     105.000  16.000  35.000  745.000  500.000"
      ]
     },
     "execution_count": 10,
     "metadata": {},
     "output_type": "execute_result"
    }
   ],
   "source": [
    "pivot_hw_df.describe().round(3)"
   ]
  },
  {
   "cell_type": "code",
   "execution_count": 11,
   "id": "russian-tennis",
   "metadata": {},
   "outputs": [
    {
     "data": {
      "text/html": [
       "<div>\n",
       "<style scoped>\n",
       "    .dataframe tbody tr th:only-of-type {\n",
       "        vertical-align: middle;\n",
       "    }\n",
       "\n",
       "    .dataframe tbody tr th {\n",
       "        vertical-align: top;\n",
       "    }\n",
       "\n",
       "    .dataframe thead th {\n",
       "        text-align: right;\n",
       "    }\n",
       "</style>\n",
       "<table border=\"1\" class=\"dataframe\">\n",
       "  <thead>\n",
       "    <tr style=\"text-align: right;\">\n",
       "      <th>column</th>\n",
       "      <th>nameFull</th>\n",
       "      <th>yearID</th>\n",
       "      <th>BB</th>\n",
       "      <th>HBP</th>\n",
       "      <th>HR</th>\n",
       "      <th>IPouts</th>\n",
       "      <th>SO</th>\n",
       "    </tr>\n",
       "  </thead>\n",
       "  <tbody>\n",
       "    <tr>\n",
       "      <th>68</th>\n",
       "      <td>Mike Leake</td>\n",
       "      <td>2012</td>\n",
       "      <td>41.0</td>\n",
       "      <td>3.0</td>\n",
       "      <td>-28.0</td>\n",
       "      <td>537.0</td>\n",
       "      <td>116.0</td>\n",
       "    </tr>\n",
       "  </tbody>\n",
       "</table>\n",
       "</div>"
      ],
      "text/plain": [
       "column    nameFull yearID    BB  HBP    HR  IPouts     SO\n",
       "68      Mike Leake   2012  41.0  3.0 -28.0   537.0  116.0"
      ]
     },
     "execution_count": 11,
     "metadata": {},
     "output_type": "execute_result"
    }
   ],
   "source": [
    "pivot_hw_df[pivot_hw_df['HR']==-28]"
   ]
  },
  {
   "cell_type": "code",
   "execution_count": 12,
   "id": "marked-appliance",
   "metadata": {},
   "outputs": [],
   "source": [
    "pivot_hw_df.loc[(pivot_hw_df['nameFull']=='Mike Leake')&\n",
    "           (pivot_hw_df['yearID']=='2012'),'HR'] = 2.0"
   ]
  },
  {
   "cell_type": "code",
   "execution_count": 13,
   "id": "occupational-fusion",
   "metadata": {},
   "outputs": [
    {
     "data": {
      "text/plain": [
       "column\n",
       "nameFull    0\n",
       "yearID      0\n",
       "BB          0\n",
       "HBP         0\n",
       "HR          1\n",
       "IPouts      0\n",
       "SO          0\n",
       "dtype: int64"
      ]
     },
     "execution_count": 13,
     "metadata": {},
     "output_type": "execute_result"
    }
   ],
   "source": [
    "pivot_hw_df.isnull().sum()"
   ]
  },
  {
   "cell_type": "code",
   "execution_count": 14,
   "id": "designing-night",
   "metadata": {},
   "outputs": [
    {
     "data": {
      "text/html": [
       "<div>\n",
       "<style scoped>\n",
       "    .dataframe tbody tr th:only-of-type {\n",
       "        vertical-align: middle;\n",
       "    }\n",
       "\n",
       "    .dataframe tbody tr th {\n",
       "        vertical-align: top;\n",
       "    }\n",
       "\n",
       "    .dataframe thead th {\n",
       "        text-align: right;\n",
       "    }\n",
       "</style>\n",
       "<table border=\"1\" class=\"dataframe\">\n",
       "  <thead>\n",
       "    <tr style=\"text-align: right;\">\n",
       "      <th>column</th>\n",
       "      <th>nameFull</th>\n",
       "      <th>yearID</th>\n",
       "      <th>BB</th>\n",
       "      <th>HBP</th>\n",
       "      <th>HR</th>\n",
       "      <th>IPouts</th>\n",
       "      <th>SO</th>\n",
       "    </tr>\n",
       "  </thead>\n",
       "  <tbody>\n",
       "    <tr>\n",
       "      <th>32</th>\n",
       "      <td>Ian Kennedy</td>\n",
       "      <td>2012</td>\n",
       "      <td>55.0</td>\n",
       "      <td>14.0</td>\n",
       "      <td>NaN</td>\n",
       "      <td>625.0</td>\n",
       "      <td>187.0</td>\n",
       "    </tr>\n",
       "  </tbody>\n",
       "</table>\n",
       "</div>"
      ],
      "text/plain": [
       "column     nameFull yearID    BB   HBP  HR  IPouts     SO\n",
       "32      Ian Kennedy   2012  55.0  14.0 NaN   625.0  187.0"
      ]
     },
     "execution_count": 14,
     "metadata": {},
     "output_type": "execute_result"
    }
   ],
   "source": [
    "pivot_hw_df[pivot_hw_df['HR'].isnull()]"
   ]
  },
  {
   "cell_type": "code",
   "execution_count": 15,
   "id": "auburn-summer",
   "metadata": {},
   "outputs": [],
   "source": [
    "pivot_hw_df.loc[(pivot_hw_df['nameFull']=='Ian Kennedy')&\n",
    "           (pivot_hw_df['yearID']=='2012'), 'HR'] = 0"
   ]
  },
  {
   "cell_type": "markdown",
   "id": "stopped-superior",
   "metadata": {
    "deletable": false,
    "editable": false,
    "nbgrader": {
     "cell_type": "markdown",
     "checksum": "b1232221d99ce8d87ec38236a1dbc45e",
     "grade": false,
     "grade_id": "q_2_desc",
     "locked": true,
     "schema_version": 3,
     "solution": false,
     "task": false
    }
   },
   "source": [
    "---\n",
    "## Part 2: Calculate Fielding Independent Pitching\n",
    "\n",
    "Calculate FIP for each pitcher/year combination.  The FIP constant table is below.\n",
    "\n",
    "FIP Constant:\n",
    "\n",
    "2012: 3.095\n",
    "\n",
    "2013: 3.048\n",
    "\n",
    "2014: 3.132\n",
    "\n",
    "2015: 3.134"
   ]
  },
  {
   "cell_type": "code",
   "execution_count": 16,
   "id": "interstate-novelty",
   "metadata": {},
   "outputs": [],
   "source": [
    "pivot_hw_df['FIPC']=np.where(pivot_hw_df['yearID']=='2012', 3.095, (np.where(pivot_hw_df['yearID']=='2013',  3.048, (np.where(pivot_hw_df['yearID']=='2014', 3.132, 3.134)))))"
   ]
  },
  {
   "cell_type": "code",
   "execution_count": 17,
   "id": "approved-crime",
   "metadata": {},
   "outputs": [],
   "source": [
    "def calc_fip(row):\n",
    "    hr=13*row['HR']\n",
    "    bbhbp=3*(row['BB']+row['HBP'])\n",
    "    k=2*row['SO']\n",
    "    ip=row['IPouts']\n",
    "    fipc=row['FIPC']\n",
    "    fip=((hr+bbhbp-k)/ip)+fipc\n",
    "    return fip"
   ]
  },
  {
   "cell_type": "code",
   "execution_count": 18,
   "id": "purple-presentation",
   "metadata": {
    "deletable": false,
    "nbgrader": {
     "cell_type": "code",
     "checksum": "3f3a5ea49fd6370ef944638633547dc0",
     "grade": true,
     "grade_id": "q_2_answer",
     "locked": false,
     "points": 4,
     "schema_version": 3,
     "solution": true,
     "task": false
    }
   },
   "outputs": [],
   "source": [
    "pivot_hw_df['FIP'] = pivot_hw_df.apply(lambda row: calc_fip(row), axis=1)"
   ]
  },
  {
   "cell_type": "markdown",
   "id": "suited-directory",
   "metadata": {
    "deletable": false,
    "editable": false,
    "nbgrader": {
     "cell_type": "markdown",
     "checksum": "bb95d6a6753d8a5a6afc23325e6d4435",
     "grade": false,
     "grade_id": "q_3_desc",
     "locked": true,
     "schema_version": 3,
     "solution": false,
     "task": false
    }
   },
   "source": [
    "---\n",
    "## Part 3: Lowest FIP\n",
    "\n",
    "* Produce a DataFrame with the lowest 5 single-season FIPs of our dataset"
   ]
  },
  {
   "cell_type": "code",
   "execution_count": 19,
   "id": "considerable-laugh",
   "metadata": {
    "deletable": false,
    "nbgrader": {
     "cell_type": "code",
     "checksum": "8ead3b9924d83bd3ea0921701c326cb1",
     "grade": true,
     "grade_id": "q_3_answer",
     "locked": false,
     "points": 3,
     "schema_version": 3,
     "solution": true,
     "task": false
    }
   },
   "outputs": [
    {
     "data": {
      "text/html": [
       "<div>\n",
       "<style scoped>\n",
       "    .dataframe tbody tr th:only-of-type {\n",
       "        vertical-align: middle;\n",
       "    }\n",
       "\n",
       "    .dataframe tbody tr th {\n",
       "        vertical-align: top;\n",
       "    }\n",
       "\n",
       "    .dataframe thead th {\n",
       "        text-align: right;\n",
       "    }\n",
       "</style>\n",
       "<table border=\"1\" class=\"dataframe\">\n",
       "  <thead>\n",
       "    <tr style=\"text-align: right;\">\n",
       "      <th>column</th>\n",
       "      <th>nameFull</th>\n",
       "      <th>yearID</th>\n",
       "      <th>FIP</th>\n",
       "    </tr>\n",
       "  </thead>\n",
       "  <tbody>\n",
       "    <tr>\n",
       "      <th>0</th>\n",
       "      <td>Felix Hernandez</td>\n",
       "      <td>2014</td>\n",
       "      <td>2.229</td>\n",
       "    </tr>\n",
       "    <tr>\n",
       "      <th>1</th>\n",
       "      <td>Clayton Kershaw</td>\n",
       "      <td>2014</td>\n",
       "      <td>2.692</td>\n",
       "    </tr>\n",
       "    <tr>\n",
       "      <th>2</th>\n",
       "      <td>Clayton Kershaw</td>\n",
       "      <td>2015</td>\n",
       "      <td>2.753</td>\n",
       "    </tr>\n",
       "    <tr>\n",
       "      <th>3</th>\n",
       "      <td>Clayton Kershaw</td>\n",
       "      <td>2013</td>\n",
       "      <td>2.828</td>\n",
       "    </tr>\n",
       "    <tr>\n",
       "      <th>4</th>\n",
       "      <td>Ian Kennedy</td>\n",
       "      <td>2012</td>\n",
       "      <td>2.828</td>\n",
       "    </tr>\n",
       "  </tbody>\n",
       "</table>\n",
       "</div>"
      ],
      "text/plain": [
       "column         nameFull yearID    FIP\n",
       "0       Felix Hernandez   2014  2.229\n",
       "1       Clayton Kershaw   2014  2.692\n",
       "2       Clayton Kershaw   2015  2.753\n",
       "3       Clayton Kershaw   2013  2.828\n",
       "4           Ian Kennedy   2012  2.828"
      ]
     },
     "execution_count": 19,
     "metadata": {},
     "output_type": "execute_result"
    }
   ],
   "source": [
    "(pivot_hw_df\n",
    " .sort_values('FIP', ascending=True)\n",
    " .head()\n",
    " .round(3)\n",
    " .reset_index(drop=True)\n",
    "[['nameFull','yearID','FIP']])"
   ]
  }
 ],
 "metadata": {
  "kernelspec": {
   "display_name": "Python 3",
   "language": "python",
   "name": "python3"
  },
  "language_info": {
   "codemirror_mode": {
    "name": "ipython",
    "version": 3
   },
   "file_extension": ".py",
   "mimetype": "text/x-python",
   "name": "python",
   "nbconvert_exporter": "python",
   "pygments_lexer": "ipython3",
   "version": "3.8.5"
  }
 },
 "nbformat": 4,
 "nbformat_minor": 5
}
